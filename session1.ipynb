{
  "nbformat": 4,
  "nbformat_minor": 0,
  "metadata": {
    "colab": {
      "provenance": []
    },
    "kernelspec": {
      "name": "python3",
      "display_name": "Python 3"
    },
    "language_info": {
      "name": "python"
    }
  },
  "cells": [
    {
      "cell_type": "markdown",
      "source": [
        "#**Python Libraries**\n",
        "Python provides multiple libraries for data analysis,cleaning and arrangement. Two such famous libraries are NumPy and Pandas\n",
        "\n",
        "#**NumPy**\n",
        "Numpy is the fundamental library of Python, used to perform scientific computing. It provides high-performance multidimensional arrays and tools to deal with them.\n",
        "\n",
        "#**Pandas**\n",
        "Pandas is a Python library used for working with data sets.\n",
        "\n",
        "It has functions for analyzing, cleaning, exploring, and manipulating data."
      ],
      "metadata": {
        "id": "QGyBszvGZoGP"
      }
    },
    {
      "cell_type": "markdown",
      "source": [
        "DataFrame usign Dictionary:"
      ],
      "metadata": {
        "id": "hp5bIg_ryGs2"
      }
    },
    {
      "cell_type": "markdown",
      "source": [
        "#**Importing the libraries in the codebase**"
      ],
      "metadata": {
        "id": "KGFMvAw-gGGJ"
      }
    },
    {
      "cell_type": "code",
      "source": [
        "import pandas as pd\n",
        "import numpy as np"
      ],
      "metadata": {
        "id": "HhtU44augL_t"
      },
      "execution_count": 1,
      "outputs": []
    },
    {
      "cell_type": "markdown",
      "source": [
        "#**Reading .csv files with the help of Pandas**"
      ],
      "metadata": {
        "id": "d2lW200FgZzc"
      }
    },
    {
      "cell_type": "code",
      "source": [
        "df=pd.read_csv('/content/top_restaurants_paris.csv')\n",
        "print(df)"
      ],
      "metadata": {
        "colab": {
          "base_uri": "https://localhost:8080/"
        },
        "id": "TYFqmOb-gikJ",
        "outputId": "b727cf00-e115-4551-dd38-5dd129eb2925"
      },
      "execution_count": 2,
      "outputs": [
        {
          "output_type": "stream",
          "name": "stdout",
          "text": [
            "                          name  \\\n",
            "0    The Frog at Bercy Village   \n",
            "1      Assanabel Saint-Germain   \n",
            "2                 114 Faubourg   \n",
            "3                       Nectar   \n",
            "4                    Nell'Arte   \n",
            "..                         ...   \n",
            "775           Augusto Pizzeria   \n",
            "776        Top Chef Le Bistrot   \n",
            "777          L'Atelier du Parc   \n",
            "778                A l'Affiche   \n",
            "779                   Barock's   \n",
            "\n",
            "                                               address  rankingPosition  \\\n",
            "0            25 Cour Saint Emilion, 75012 Paris France               19   \n",
            "1                     38 rue Jacob, 75006 Paris France               15   \n",
            "2    114 rue du Faubourg Saint Honore, 75008 Paris ...               35   \n",
            "3    7 rue Mayran Hôtel Maison mère, 75009 Paris Fr...                5   \n",
            "4    58 rue Marguerite de Rochechouart, 75009 Paris...               14   \n",
            "..                                                 ...              ...   \n",
            "775            14 rue Victor Masse, 75009 Paris France              702   \n",
            "776            29 quai Gallieni, 92150 Suresnes France                3   \n",
            "777          35 boulevard Lefebvre, 75015 Paris France              738   \n",
            "778               48 rue de Moscou, 75008 Paris France              749   \n",
            "779  25 rue Diderot 25 rue Diderot, 92140, Issy-les...                5   \n",
            "\n",
            "     rating                                        description  \\\n",
            "0       4.5  THE FROG AT BERCY VILLAGE is situated in an hi...   \n",
            "1       4.5  Assanabel Paris, les restaurants où notre spéc...   \n",
            "2       4.5  La brasserie étoilée Récompensé par une étoile...   \n",
            "3       5.0  Un refuge gastronomique effervescent et décomp...   \n",
            "4       5.0                                                NaN   \n",
            "..      ...                                                ...   \n",
            "775     4.5  Venez découvrir de délicieuses pizzas chez Aug...   \n",
            "776     4.5                                                NaN   \n",
            "777     4.5                                                NaN   \n",
            "778     4.5                                                NaN   \n",
            "779     4.5                                                NaN   \n",
            "\n",
            "     numberOfReviews priceLevel priceRange  \n",
            "0               2292   $$ - $$$  $11 - $17  \n",
            "1                232   $$ - $$$  $20 - $90  \n",
            "2               1953       $$$$        NaN  \n",
            "3                243   $$ - $$$  $15 - $69  \n",
            "4                350   $$ - $$$  $12 - $20  \n",
            "..               ...        ...        ...  \n",
            "775              149   $$ - $$$  $15 - $35  \n",
            "776             1910   $$ - $$$  $13 - $45  \n",
            "777              604       $$$$  $27 - $89  \n",
            "778              367   $$ - $$$  $16 - $35  \n",
            "779              266   $$ - $$$        NaN  \n",
            "\n",
            "[780 rows x 8 columns]\n"
          ]
        }
      ]
    },
    {
      "cell_type": "markdown",
      "source": [
        "#**DataFrame**\n",
        "Pandas DataFrame is two-dimensional size-mutable, potentially heterogeneous tabular data structure with labeled axes (rows and columns). A Data frame is a two-dimensional data structure, i.e., data is aligned in a tabular fashion in rows and columns. Pandas DataFrame consists of three principal components, the data, rows, and columns.\n",
        "\n",
        "\n",
        "Basic Syntax:\n",
        "class pandas.DataFrame(data=None, index=None, columns=None, dtype=None, copy=None)\n",
        "\n",
        "Parameters:\n",
        "\n",
        "datandarray (structured or homogeneous), Iterable, dict, or DataFrame\n",
        "Dict can contain Series, arrays, constants, dataclass or list-like objects. If data is a dict, column order follows insertion-order. If a dict contains Series which have an index defined, it is aligned by its index. This alignment also occurs if data is a Series or a DataFrame itself. Alignment is done on Series/DataFrame inputs.\n",
        "\n",
        "If data is a list of dicts, column order follows insertion-order.\n",
        "\n",
        "index:Index or array-like\n",
        "Index to use for resulting frame. Will default to RangeIndex if no indexing information part of input data and no index provided.\n",
        "\n",
        "columns:Index or array-like\n",
        "Column labels to use for resulting frame when data does not have them, defaulting to RangeIndex(0, 1, 2, …, n). If data contains column labels, will perform column selection instead.\n",
        "\n",
        "dtype:dtype, default None\n",
        "Data type to force. Only a single dtype is allowed. If None, infer.\n",
        "\n",
        "copy:bool or None, default None\n",
        "Copy data from inputs. For dict data, the default of None behaves like copy=True. For DataFrame or 2d ndarray input, the default of None behaves like copy=False. If data is a dict containing one or more Series (possibly of different dtypes), copy=False will ensure that these inputs are not copied.\n",
        "\n"
      ],
      "metadata": {
        "id": "K5PuQjomhLBH"
      }
    },
    {
      "cell_type": "markdown",
      "source": [
        "#**DataFrame with the help of a dictionary**"
      ],
      "metadata": {
        "id": "wPSYjuEQiKjE"
      }
    },
    {
      "cell_type": "code",
      "execution_count": 3,
      "metadata": {
        "colab": {
          "base_uri": "https://localhost:8080/"
        },
        "id": "6aT0ToX8vvL9",
        "outputId": "5e0fac9c-99b9-4fbe-b699-c7cf527788dc"
      },
      "outputs": [
        {
          "output_type": "stream",
          "name": "stdout",
          "text": [
            "   apples  oranges\n",
            "0       3        0\n",
            "1       2        3\n",
            "2       1        7\n",
            "3       0        2\n",
            "   apples  oranges\n",
            "a       3        0\n",
            "b       2        3\n",
            "c       1        7\n",
            "d       0        2\n"
          ]
        }
      ],
      "source": [
        "data= {'apples':[3,2,1,0], 'oranges':[0,3,7,2]}\n",
        "df=pd.DataFrame(data)\n",
        "print(df)\n",
        "df=pd.DataFrame(data, index=['a','b','c','d'])\n",
        "print(df)"
      ]
    },
    {
      "cell_type": "markdown",
      "source": [
        "#**Series**\n",
        "Pandas Series is a one-dimensional labeled array capable of holding data of any type (integer, string, float, python objects, etc.).\n",
        "\n",
        "\n"
      ],
      "metadata": {
        "id": "ZUTpfJnyy8aq"
      }
    },
    {
      "cell_type": "markdown",
      "source": [
        "#**Creation of series**"
      ],
      "metadata": {
        "id": "UHH_WNJgjO67"
      }
    },
    {
      "cell_type": "code",
      "source": [
        "l=[10,20,30,40]\n",
        "l2=[\"Vansh\",\"Siddhi\",\"Manoj\"]\n",
        "s1=pd.Series(l)\n",
        "s2=pd.Series(l2)\n",
        "print(s1)\n",
        "print(s2)\n",
        "s1=pd.Series(l, index=['a','b','c','d'])\n",
        "print(s1)"
      ],
      "metadata": {
        "colab": {
          "base_uri": "https://localhost:8080/"
        },
        "id": "z05y4kwMy7Ov",
        "outputId": "7cdbce21-58cf-40e2-f83f-8aa08c510249"
      },
      "execution_count": 5,
      "outputs": [
        {
          "output_type": "stream",
          "name": "stdout",
          "text": [
            "0    10\n",
            "1    20\n",
            "2    30\n",
            "3    40\n",
            "dtype: int64\n",
            "0     Vansh\n",
            "1    Siddhi\n",
            "2     Manoj\n",
            "dtype: object\n",
            "a    10\n",
            "b    20\n",
            "c    30\n",
            "d    40\n",
            "dtype: int64\n"
          ]
        }
      ]
    },
    {
      "cell_type": "markdown",
      "source": [
        "#**Arrays**\n",
        "Python lists are a substitute for arrays, but they fail to deliver the performance required while computing large sets of numerical data.\n",
        "\n",
        "To address this issue we use the NumPy library of Python. NumPy offers an array object called ndarray. They are similar to standard Python sequences but differ in certain key factors."
      ],
      "metadata": {
        "id": "IK_m5sYs0om1"
      }
    },
    {
      "cell_type": "code",
      "source": [
        "s3=[1,2,3,4]\n",
        "arr=np.array(s3)\n",
        "print(s3)"
      ],
      "metadata": {
        "colab": {
          "base_uri": "https://localhost:8080/"
        },
        "id": "7GFdm7W_0j5U",
        "outputId": "9f1cd978-f43c-4190-9668-7e67dd7bfa05"
      },
      "execution_count": null,
      "outputs": [
        {
          "output_type": "stream",
          "name": "stdout",
          "text": [
            "[1, 2, 3, 4]\n"
          ]
        }
      ]
    },
    {
      "cell_type": "markdown",
      "source": [
        "#**Different series testcases**"
      ],
      "metadata": {
        "id": "MIHBnyKKkhSh"
      }
    },
    {
      "cell_type": "code",
      "source": [
        "countries={\n",
        "    'Country':[\"India\",\"USA\",\"UAE\",\"France\"]\n",
        "}\n",
        "\n",
        "scount=pd.Series(countries)\n",
        "print(scount)\n",
        "\n",
        "print(s1['b']) #accesing an element from index\n",
        "print(s1[1:3]) #accesing range of elements\n",
        "print(s1['b':'d']) #accessing range of elements with the help of index"
      ],
      "metadata": {
        "colab": {
          "base_uri": "https://localhost:8080/"
        },
        "id": "jd8Gdull1Yzw",
        "outputId": "b3f072e3-3d2b-45a0-a443-8f80417432b0"
      },
      "execution_count": 6,
      "outputs": [
        {
          "output_type": "stream",
          "name": "stdout",
          "text": [
            "Country    [India, USA, UAE, France]\n",
            "dtype: object\n",
            "20\n",
            "b    20\n",
            "c    30\n",
            "dtype: int64\n",
            "b    20\n",
            "c    30\n",
            "d    40\n",
            "dtype: int64\n"
          ]
        }
      ]
    },
    {
      "cell_type": "markdown",
      "source": [
        "#**Operations on series**\n",
        "1) Addition\n",
        "\n",
        "2) Subtraction\n",
        "\n",
        "3) Multiplication\n",
        "\n",
        "4) Division\n"
      ],
      "metadata": {
        "id": "0LksiZ3Z3Zt1"
      }
    },
    {
      "cell_type": "code",
      "source": [
        "l3=[70,80,90,100]\n",
        "ll=[10,20,30,40]\n",
        "s3=pd.Series(l3)\n",
        "s4=pd.Series(ll)\n",
        "dsum=s4+s3\n",
        "print(\"Addition\")\n",
        "print(dsum)\n",
        "dsub=s4-s3\n",
        "print(\"Subtraction\")\n",
        "print(dsub)\n",
        "dmul=s4*s3\n",
        "print(\"Multipication\")\n",
        "print(dmul)\n",
        "ddiv=s4/s3\n",
        "print(\"Division\")\n",
        "print(ddiv)"
      ],
      "metadata": {
        "colab": {
          "base_uri": "https://localhost:8080/"
        },
        "id": "1FcggQzR3bdD",
        "outputId": "f300004d-d446-4712-eafe-37857983e334"
      },
      "execution_count": null,
      "outputs": [
        {
          "output_type": "stream",
          "name": "stdout",
          "text": [
            "Addition\n",
            "0     80\n",
            "1    100\n",
            "2    120\n",
            "3    140\n",
            "dtype: int64\n",
            "Subtraction\n",
            "0   -60\n",
            "1   -60\n",
            "2   -60\n",
            "3   -60\n",
            "dtype: int64\n",
            "Multipication\n",
            "0     700\n",
            "1    1600\n",
            "2    2700\n",
            "3    4000\n",
            "dtype: int64\n",
            "Division\n",
            "0    0.142857\n",
            "1    0.250000\n",
            "2    0.333333\n",
            "3    0.400000\n",
            "dtype: float64\n"
          ]
        }
      ]
    },
    {
      "cell_type": "markdown",
      "source": [
        "#**VARIOUS VARIATIONS OF SERIES AND DATAFRAMES BY PERMUTING THEM WITH LIST AND DICTIONARY**"
      ],
      "metadata": {
        "id": "S9nXbYJVnBFL"
      }
    },
    {
      "cell_type": "markdown",
      "source": [
        "#**Creation of Empty dataframe**"
      ],
      "metadata": {
        "id": "NdyLt712nMs7"
      }
    },
    {
      "cell_type": "code",
      "source": [
        "a=[]\n",
        "df1=pd.DataFrame(a)\n",
        "print(df1)"
      ],
      "metadata": {
        "colab": {
          "base_uri": "https://localhost:8080/"
        },
        "id": "IKzZTlRh6MCc",
        "outputId": "9505de34-b412-4a96-e332-c70cbe942a03"
      },
      "execution_count": 8,
      "outputs": [
        {
          "output_type": "stream",
          "name": "stdout",
          "text": [
            "Empty DataFrame\n",
            "Columns: []\n",
            "Index: []\n"
          ]
        }
      ]
    },
    {
      "cell_type": "markdown",
      "source": [
        "#**Creation of Dataframe from numpy array (1D,ND)**"
      ],
      "metadata": {
        "id": "S4mGampRnX19"
      }
    },
    {
      "cell_type": "code",
      "source": [
        "b=[\"Python\",\"Rust\",\"Java\"]\n",
        "arr=np.array(b)\n",
        "print(arr)\n",
        "dfarr=pd.DataFrame(arr)\n",
        "print(dfarr)"
      ],
      "metadata": {
        "colab": {
          "base_uri": "https://localhost:8080/"
        },
        "id": "5sVTsGwunkgn",
        "outputId": "22fc68b5-29a2-4e4c-b18f-5580776f4287"
      },
      "execution_count": 13,
      "outputs": [
        {
          "output_type": "stream",
          "name": "stdout",
          "text": [
            "['Python' 'Rust' 'Java']\n",
            "        0\n",
            "0  Python\n",
            "1    Rust\n",
            "2    Java\n"
          ]
        }
      ]
    },
    {
      "cell_type": "markdown",
      "source": [
        "#**Creation of Dataframe from list of Dictionaries**\n"
      ],
      "metadata": {
        "id": "QbWYjWXEoBVV"
      }
    },
    {
      "cell_type": "code",
      "source": [
        "co=[{\"username\":\"ahad\" , \"password\":\"asdafd\"},{\"username\":\"vansh\" , \"password\":\"asdaeffd\"},{\"username\":\"siddhi\" , \"password\":\"awdqwdsdafd\"}]\n",
        "\n",
        "df2=pd.DataFrame(co)\n",
        "print(df2)"
      ],
      "metadata": {
        "colab": {
          "base_uri": "https://localhost:8080/"
        },
        "id": "gSstUqTs66Lb",
        "outputId": "a177e7a6-3153-4913-cbd4-d0a0020772f4"
      },
      "execution_count": 14,
      "outputs": [
        {
          "output_type": "stream",
          "name": "stdout",
          "text": [
            "  username     password\n",
            "0     ahad       asdafd\n",
            "1    vansh     asdaeffd\n",
            "2   siddhi  awdqwdsdafd\n"
          ]
        }
      ]
    },
    {
      "cell_type": "markdown",
      "source": [
        "#**Creation of dataframe from dictionary of list**"
      ],
      "metadata": {
        "id": "UK2JLlQYoxnD"
      }
    },
    {
      "cell_type": "code",
      "source": [
        "ltod={\"1\":[1,2,3,4], \"2\":[54,667,45,343]}\n",
        "df3=pd.DataFrame(ltod)\n",
        "print(df3)"
      ],
      "metadata": {
        "colab": {
          "base_uri": "https://localhost:8080/"
        },
        "id": "zr8xquTnpTnK",
        "outputId": "6f4ed612-54fc-4e92-e9cf-9fbea3eb05ba"
      },
      "execution_count": 15,
      "outputs": [
        {
          "output_type": "stream",
          "name": "stdout",
          "text": [
            "   1    2\n",
            "0  1   54\n",
            "1  2  667\n",
            "2  3   45\n",
            "3  4  343\n"
          ]
        }
      ]
    },
    {
      "cell_type": "markdown",
      "source": [
        "#**Creation of dataframe from series**\n",
        "\n"
      ],
      "metadata": {
        "id": "TRyK9653sN44"
      }
    },
    {
      "cell_type": "code",
      "source": [
        "l5=[3,4,7,9]\n",
        "s5=pd.Series(l5) #series declaration\n",
        "print(\"Series\")\n",
        "print(s5)\n",
        "print(\"DataFrame\")\n",
        "df5=pd.DataFrame(s5) # dataframe declaration\n",
        "print(df5)"
      ],
      "metadata": {
        "colab": {
          "base_uri": "https://localhost:8080/"
        },
        "id": "zRbdw4xE7ZOl",
        "outputId": "00ddb80f-2696-4a75-eae7-8245e034de8f"
      },
      "execution_count": 16,
      "outputs": [
        {
          "output_type": "stream",
          "name": "stdout",
          "text": [
            "Series\n",
            "0    3\n",
            "1    4\n",
            "2    7\n",
            "3    9\n",
            "dtype: int64\n",
            "DataFrame\n",
            "   0\n",
            "0  3\n",
            "1  4\n",
            "2  7\n",
            "3  9\n"
          ]
        }
      ]
    },
    {
      "cell_type": "markdown",
      "source": [
        "#**Creation of dataframe from dictionary of series**"
      ],
      "metadata": {
        "id": "9YJl8B63suKn"
      }
    },
    {
      "cell_type": "code",
      "source": [
        "l5=[3,4,7,9]\n",
        "s5=pd.Series(l5)\n",
        "l6=[\"ahad\",\"Aman\",\"Vansh\",\"Rachit\"]\n",
        "s6=pd.Series(l6)\n",
        "dictionary={\"sereis1\":s5 , \"series2\":s6}\n",
        "dframe=pd.DataFrame(dictionary)\n",
        "print(dframe)"
      ],
      "metadata": {
        "colab": {
          "base_uri": "https://localhost:8080/"
        },
        "id": "H7cnud1fsQqy",
        "outputId": "965c5497-394a-4ede-d252-01966a38933b"
      },
      "execution_count": 17,
      "outputs": [
        {
          "output_type": "stream",
          "name": "stdout",
          "text": [
            "   sereis1 series2\n",
            "0        3    ahad\n",
            "1        4    Aman\n",
            "2        7   Vansh\n",
            "3        9  Rachit\n"
          ]
        }
      ]
    },
    {
      "cell_type": "markdown",
      "source": [
        "#**Adding new column to dataframe**\n",
        "DataFrame.insert(loc, column, value, allow_duplicates=_NoDefault.no_default)\n",
        "Insert column into DataFrame at specified location."
      ],
      "metadata": {
        "id": "frXiuZj8tuxL"
      }
    },
    {
      "cell_type": "code",
      "source": [
        "print(dframe)\n",
        "dframe.insert(1,\"newcol\", [67,4545,65,234234])\n",
        "print(dframe)"
      ],
      "metadata": {
        "colab": {
          "base_uri": "https://localhost:8080/"
        },
        "id": "NXuNpxgdt12l",
        "outputId": "32e76ef3-7e9d-4409-d1e3-7557fc3afc2f"
      },
      "execution_count": 19,
      "outputs": [
        {
          "output_type": "stream",
          "name": "stdout",
          "text": [
            "   sereis1 series2\n",
            "0        3    ahad\n",
            "1        4    Aman\n",
            "2        7   Vansh\n",
            "3        9  Rachit\n",
            "   sereis1  newcol series2\n",
            "0        3      67    ahad\n",
            "1        4    4545    Aman\n",
            "2        7      65   Vansh\n",
            "3        9  234234  Rachit\n"
          ]
        }
      ]
    },
    {
      "cell_type": "markdown",
      "source": [
        "#**Adding a new row to dataframe**\n"
      ],
      "metadata": {
        "id": "bzNdzDmUvn71"
      }
    },
    {
      "cell_type": "code",
      "source": [
        "\n",
        "print('Before inserting')\n",
        "print(df2)\n",
        "df2.loc[len(df2.index)] = [\"bhakti\",\"wkfhwjfh\"]\n",
        "print(\"After inserting\")\n",
        "print(df2)\n",
        "\n",
        ""
      ],
      "metadata": {
        "colab": {
          "base_uri": "https://localhost:8080/"
        },
        "id": "8h8YvqFuwDfB",
        "outputId": "2f6e4461-1b5a-4e37-eb5b-29654add284c"
      },
      "execution_count": 25,
      "outputs": [
        {
          "output_type": "stream",
          "name": "stdout",
          "text": [
            "Before inserting\n",
            "  username     password\n",
            "0     ahad       asdafd\n",
            "1    vansh     asdaeffd\n",
            "2   siddhi  awdqwdsdafd\n",
            "After inserting\n",
            "  username     password\n",
            "0     ahad       asdafd\n",
            "1    vansh     asdaeffd\n",
            "2   siddhi  awdqwdsdafd\n",
            "3   bhakti     wkfhwjfh\n"
          ]
        }
      ]
    },
    {
      "cell_type": "markdown",
      "source": [
        "#**Deleting row from a dataframe**"
      ],
      "metadata": {
        "id": "t8Szn0SGxIfy"
      }
    },
    {
      "cell_type": "code",
      "source": [
        "print(\"Before Deleting\")\n",
        "print(df)\n",
        "df=df.drop('a')\n",
        "print(\"After deleting\")\n",
        "print(df)"
      ],
      "metadata": {
        "colab": {
          "base_uri": "https://localhost:8080/"
        },
        "id": "lgVghI_w7ur8",
        "outputId": "8bded4ec-c1df-4a99-afdd-3d43b60d6e07"
      },
      "execution_count": 29,
      "outputs": [
        {
          "output_type": "stream",
          "name": "stdout",
          "text": [
            "Before Deleting\n",
            "   apples  oranges\n",
            "a       3        0\n",
            "b       2        3\n",
            "d       0        2\n",
            "After deleting\n",
            "   apples  oranges\n",
            "b       2        3\n",
            "d       0        2\n"
          ]
        }
      ]
    },
    {
      "cell_type": "markdown",
      "source": [
        "#**Deleting column from dataframe**\n"
      ],
      "metadata": {
        "id": "EpCFetn4ykO9"
      }
    },
    {
      "cell_type": "code",
      "source": [
        "print('Before Deleting')\n",
        "print(df)\n",
        "print('After deleting')\n",
        "df=df.drop(columns=['apples'])\n",
        "print(df)"
      ],
      "metadata": {
        "colab": {
          "base_uri": "https://localhost:8080/"
        },
        "id": "SDztF4ye8MgT",
        "outputId": "37d83896-3e92-4c67-dbaf-9932dec32397"
      },
      "execution_count": 30,
      "outputs": [
        {
          "output_type": "stream",
          "name": "stdout",
          "text": [
            "Before Deleting\n",
            "   apples  oranges\n",
            "b       2        3\n",
            "d       0        2\n",
            "After deleting\n",
            "   oranges\n",
            "b        3\n",
            "d        2\n"
          ]
        }
      ]
    },
    {
      "cell_type": "code",
      "source": [],
      "metadata": {
        "id": "MYVYXauG-wKw"
      },
      "execution_count": null,
      "outputs": []
    }
  ]
}